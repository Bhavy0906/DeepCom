{
  "cells": [
    {
      "cell_type": "code",
      "execution_count": 2,
      "metadata": {
        "id": "RrPmQdPSvSE_"
      },
      "outputs": [],
      "source": [
        "import pandas as pd\n",
        "import numpy as np"
      ]
    },
    {
      "cell_type": "code",
      "execution_count": 3,
      "metadata": {
        "id": "HsI_WpHF2n0-"
      },
      "outputs": [],
      "source": [
        "Renewable_Energy = \"Solar\" # Solar / Wind\n",
        "\n",
        "data_train_csv1 = pd.read_csv('2011.csv', index_col=0)\n",
        "data_train_csv2 = pd.read_csv('2012.csv', index_col=0)\n",
        "data_train_csv  = pd.concat([data_train_csv1, data_train_csv2])\n",
        "data_val_csv    = pd.read_csv('2013.csv', index_col=0)\n",
        "data_test_csv   = pd.read_csv('2014.csv', index_col=0)"
      ]
    },
    {
      "cell_type": "code",
      "execution_count": 4,
      "metadata": {
        "id": "kl1lRaIyvSiP"
      },
      "outputs": [
        {
          "name": "stdout",
          "output_type": "stream",
          "text": [
            "Year\n",
            "2011    0\n",
            "Name: GHI, dtype: int64\n"
          ]
        }
      ],
      "source": [
        "# Data Preprocessing\n",
        "\n",
        "unit = 1 #unit: 60 minute\n",
        "\n",
        "RE_Capacity1 = max(data_train_csv['GHI'])\n",
        "RE_Capacity2 = max(data_val_csv['GHI'])\n",
        "RE_Capacity3 = max(data_test_csv['GHI'])\n",
        "\n",
        "size_train0 = int(len(data_train_csv)/unit)\n",
        "size_val0   = int(len(data_val_csv)/unit)\n",
        "size_test0  = int(len(data_test_csv)/unit)\n",
        "\n",
        "data_train0 = []\n",
        "data_train  = []\n",
        "for i in range(size_train0):\n",
        "    data_train0 += [round(pd.Series.mean(data_train_csv['GHI'][i*unit:(i+1)*unit])/RE_Capacity1, 3)]\n",
        "    data_train  += [data_train0[i]] if data_train0[i] > 0 else []\n",
        "\n",
        "# print(data_train_csv[\"GHI\"][1:2])\n",
        "\n",
        "data_val0 = []\n",
        "data_val  = []\n",
        "for i in range(size_val0):\n",
        "    data_val0 += [round(pd.Series.mean(data_val_csv['GHI'][i*unit:(i+1)*unit])/RE_Capacity2, 3)]\n",
        "    data_val  += [data_val0[i]] if data_val0[i] > 0 else []\n",
        "\n",
        "# print(data_val)\n",
        "\n",
        "data_test0 = []\n",
        "data_test  = []\n",
        "for i in range(size_test0):\n",
        "    data_test0 += [round(pd.Series.mean(data_test_csv['GHI'][i*unit:(i+1)*unit])/RE_Capacity3, 3)]\n",
        "    data_test  += [data_test0[i]] if data_test0[i] > 0 else []"
      ]
    },
    {
      "cell_type": "code",
      "execution_count": 5,
      "metadata": {
        "colab": {
          "base_uri": "https://localhost:8080/"
        },
        "id": "R_Kq8vMEvTk9",
        "outputId": "9ebfbbc9-17f5-4e4d-9928-11dbf71a6514"
      },
      "outputs": [
        {
          "name": "stdout",
          "output_type": "stream",
          "text": [
            "MAPE_test: 261.92%\n"
          ]
        }
      ],
      "source": [
        "# Persistence Forecasting\n",
        "\n",
        "PF_pred_test = []\n",
        "for i in range(len(data_test)-1):\n",
        "    PF_pred_test += [data_test[i]]\n",
        "\n",
        "test_output = np.array(data_test[1:])\n",
        "test_predict = np.array(PF_pred_test)\n",
        "MAPE_test = np.mean(np.abs(test_predict - test_output).flatten()/test_output.flatten())\n",
        "print(\"MAPE_test: {}%\".format(round(100*MAPE_test,2)))"
      ]
    },
    {
      "cell_type": "code",
      "execution_count": 6,
      "metadata": {
        "colab": {
          "base_uri": "https://localhost:8080/"
        },
        "id": "FbalbM1-wSDu",
        "outputId": "2a1bb509-45bf-41c9-9c10-a3da490ea366"
      },
      "outputs": [
        {
          "name": "stdout",
          "output_type": "stream",
          "text": [
            "MAPE_val: 140.35%\n",
            "MAPE_test: 149.24%\n"
          ]
        }
      ],
      "source": [
        "# Autoregressive\n",
        "\n",
        "if \"Solar\" in Renewable_Energy:\n",
        "    past = 5\n",
        "if \"Wind\" in Renewable_Energy:\n",
        "    past = 4\n",
        "\n",
        "size_train = len(data_train)\n",
        "size_val   = len(data_val)\n",
        "size_test  = len(data_test)\n",
        "\n",
        "train_input = np.zeros((size_train-past, past))\n",
        "train_output = np.zeros((size_train-past, 1))\n",
        "# print(train_output)\n",
        "for i in range(size_train-past):\n",
        "    train_input[i,:] = np.reshape(data_train[i:i+past], (past))\n",
        "    train_output[i,:] = data_train[i+past]\n",
        "\n",
        "val_input = np.zeros((size_val-past, past))\n",
        "val_output = np.zeros((size_val-past, 1))\n",
        "for i in range(size_val-past):\n",
        "    val_input[i,:] = np.reshape(data_val[i:i+past], (past))\n",
        "    val_output[i,:] = data_val[i+past]\n",
        "\n",
        "test_input = np.zeros((size_test-past, past))\n",
        "test_output = np.zeros((size_test-past, 1))\n",
        "for i in range(size_test-past):\n",
        "    test_input[i,:] = np.reshape(data_test[i:i+past], (past))\n",
        "    test_output[i,:] = data_test[i+past]\n",
        "\n",
        "weight = np.matmul(np.linalg.pinv(train_input), train_output)\n",
        "val_predict  = np.matmul(val_input, weight)\n",
        "test_predict = np.matmul(test_input, weight)\n",
        "MAPE_val  = np.mean(np.abs(val_predict - val_output).flatten()/val_output.flatten())\n",
        "MAPE_test = np.mean(np.abs(test_predict - test_output).flatten()/test_output.flatten())\n",
        "print(\"MAPE_val: {}%\".format(round(100*MAPE_val,2)))\n",
        "print(\"MAPE_test: {}%\".format(round(100*MAPE_test,2)))"
      ]
    }
  ],
  "metadata": {
    "colab": {
      "authorship_tag": "ABX9TyNFiX1w3GFMGzoy2dEXh+/E",
      "collapsed_sections": [],
      "mount_file_id": "1ahQCDHSf5bSeHA_zxXSKy8PWNoK2QPno",
      "name": "DeepComp_Baseline.ipynb",
      "provenance": []
    },
    "kernelspec": {
      "display_name": "Python 3",
      "name": "python3"
    },
    "language_info": {
      "codemirror_mode": {
        "name": "ipython",
        "version": 3
      },
      "file_extension": ".py",
      "mimetype": "text/x-python",
      "name": "python",
      "nbconvert_exporter": "python",
      "pygments_lexer": "ipython3",
      "version": "3.9.12"
    }
  },
  "nbformat": 4,
  "nbformat_minor": 0
}
